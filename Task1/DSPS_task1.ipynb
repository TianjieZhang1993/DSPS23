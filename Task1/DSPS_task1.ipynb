{
 "cells": [
  {
   "cell_type": "code",
   "execution_count": null,
   "metadata": {},
   "outputs": [],
   "source": [
    "#!set GIT_PYTHON_REFRESH=quiet"
   ]
  },
  {
   "cell_type": "markdown",
   "metadata": {},
   "source": [
    "#### Parameters:\n",
    "\n",
    "- epochs: 400\n",
    "\n",
    "- weights yolov5s.pt\n",
    "\n",
    "- cfg:yolov5s.yaml\n",
    "\n",
    "- batch-size:16\n",
    "\n",
    "- hyp:hyp.scratch-med.yaml"
   ]
  },
  {
   "cell_type": "code",
   "execution_count": null,
   "metadata": {
    "colab": {
     "base_uri": "https://localhost:8080/"
    },
    "id": "9gipTW5ko6si",
    "outputId": "b040d580-7564-48eb-dff6-66c7d6d671e6"
   },
   "outputs": [],
   "source": [
    "!python train_dsps.py --data data/dsps.yaml --epochs 400 --weights yolov5s.pt --cfg yolov5s.yaml  --batch-size 16 --hyp data/hyps/hyp.scratch-med.yaml"
   ]
  },
  {
   "cell_type": "markdown",
   "metadata": {},
   "source": [
    "### Parameters:\n",
    "- weights 'the path of the trained model'\n",
    "- source 'test_data/' \n",
    "- conf-thres 0.65 \n",
    "- iou-thres 0.999 \n",
    "- augment"
   ]
  },
  {
   "cell_type": "code",
   "execution_count": null,
   "metadata": {
    "colab": {
     "base_uri": "https://localhost:8080/"
    },
    "executionInfo": {
     "elapsed": 54507,
     "status": "ok",
     "timestamp": 1670952692904,
     "user": {
      "displayName": "Yaw Adu-Gyamfi",
      "userId": "06648105294395810325"
     },
     "user_tz": 360
    },
    "id": "-Aw7vpbrnrWB",
    "outputId": "285f129e-6ff3-4c88-9e8b-169cbc85c317"
   },
   "outputs": [],
   "source": [
    "!python detect_dsps.py --weights runs/train/exp33/weights/best.pt --source 'test_data/' --conf-thres 0.65 --iou-thres 0.999 --augment"
   ]
  }
 ],
 "metadata": {
  "accelerator": "GPU",
  "colab": {
   "authorship_tag": "ABX9TyN5snC/G5sdqUkFc2j7DD1a",
   "mount_file_id": "1HQGBoxzX6kuUxxhCoW_z9xRF6bmD7Tr-",
   "provenance": []
  },
  "gpuClass": "standard",
  "kernelspec": {
   "display_name": "Python 3",
   "language": "python",
   "name": "python3"
  },
  "language_info": {
   "codemirror_mode": {
    "name": "ipython",
    "version": 3
   },
   "file_extension": ".py",
   "mimetype": "text/x-python",
   "name": "python",
   "nbconvert_exporter": "python",
   "pygments_lexer": "ipython3",
   "version": "3.9.12"
  }
 },
 "nbformat": 4,
 "nbformat_minor": 1
}
