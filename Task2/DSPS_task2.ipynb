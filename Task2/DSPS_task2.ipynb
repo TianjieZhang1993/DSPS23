{
 "cells": [
  {
   "cell_type": "markdown",
   "metadata": {},
   "source": [
    "### Parameters\n",
    "- data data/dsps2.yaml \n",
    "- epochs 400 \n",
    "- weights yolov5s.pt \n",
    "- cfg **yolov5l_simAM.yaml** --> this is a modified model  \n",
    "- batch-size 16 \n",
    "- hyp data/hyps/hyp.scratch-med.yaml\n"
   ]
  },
  {
   "cell_type": "code",
   "execution_count": null,
   "metadata": {
    "colab": {
     "base_uri": "https://localhost:8080/"
    },
    "executionInfo": {
     "elapsed": 2847038,
     "status": "ok",
     "timestamp": 1675575565040,
     "user": {
      "displayName": "Yaw Adu-Gyamfi",
      "userId": "06648105294395810325"
     },
     "user_tz": 360
    },
    "id": "EEBd0tXhNTUC",
    "outputId": "dc421518-b961-41fa-87be-48be221116eb"
   },
   "outputs": [],
   "source": [
    "python train_dsps.py --data data/dsps2.yaml --epochs 400 --weights yolov5s.pt --cfg yolov5l_simAM.yaml  --batch-size 16 --hyp data/hyps/hyp.scratch-med.yaml"
   ]
  },
  {
   "cell_type": "markdown",
   "metadata": {},
   "source": [
    "### Parameters\n",
    "- weights 'your trained model'\n",
    "- source images/ \n",
    "- conf-thres 0.65 \n",
    "- iou-thres 0.999 \n",
    "- augment \n"
   ]
  },
  {
   "cell_type": "code",
   "execution_count": null,
   "metadata": {
    "colab": {
     "base_uri": "https://localhost:8080/"
    },
    "executionInfo": {
     "elapsed": 23281,
     "status": "ok",
     "timestamp": 1675576445942,
     "user": {
      "displayName": "Yaw Adu-Gyamfi",
      "userId": "06648105294395810325"
     },
     "user_tz": 360
    },
    "id": "oxGF-sIerm6Z",
    "outputId": "63326bbc-e8eb-459c-f05e-a6427e111455"
   },
   "outputs": [],
   "source": [
    "python detect_dsps2.py --weights runs/train/exp13/weights/best.pt --source images/ --conf-thres 0.65 --iou-thres 0.999 --augment "
   ]
  }
 ],
 "metadata": {
  "accelerator": "GPU",
  "colab": {
   "authorship_tag": "ABX9TyMPc4rBUeNmidZz9t9zBV29",
   "mount_file_id": "1tadmAzTRqYBzQGINvbAVTSjuElwvAtV-",
   "provenance": []
  },
  "gpuClass": "standard",
  "kernelspec": {
   "display_name": "Python 3",
   "language": "python",
   "name": "python3"
  },
  "language_info": {
   "codemirror_mode": {
    "name": "ipython",
    "version": 3
   },
   "file_extension": ".py",
   "mimetype": "text/x-python",
   "name": "python",
   "nbconvert_exporter": "python",
   "pygments_lexer": "ipython3",
   "version": "3.9.12"
  }
 },
 "nbformat": 4,
 "nbformat_minor": 1
}
